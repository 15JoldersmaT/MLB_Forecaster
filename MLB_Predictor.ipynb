{
 "cells": [
  {
   "cell_type": "code",
   "execution_count": 1,
   "id": "dc9d58b9",
   "metadata": {},
   "outputs": [
    {
     "name": "stdout",
     "output_type": "stream",
     "text": [
      "    W_L    Team  Gm  RYTD  RAYTD  RankR  GBR  D_1_N_0  Home  RealStreakN  \\\n",
      "3     W  Braves  15    54     68      2 -3.5        0     1            1   \n",
      "4     L  Braves  16    57     68      2 -4.0        0     1            1   \n",
      "5     L  Braves  17    64     77      2 -4.0        1     1            1   \n",
      "6     W  Braves  24    89    103      4 -6.0        0     0            2   \n",
      "7     L  Braves  25    94    105      4 -5.0        1     0            1   \n",
      "..   ..     ...  ..   ...    ...    ...  ...      ...   ...          ...   \n",
      "473   L   Twins  82   363    317      1 -2.0        1     1            2   \n",
      "474   L   Twins  89   404    354      1 -3.5        0     1            1   \n",
      "475   W   Twins  90   407    360      1 -4.5        1     1            1   \n",
      "476   L   Twins  97   438    398      1 -2.5        0     0            2   \n",
      "477   L   Twins  98   444    405      1 -1.5        1     0            1   \n",
      "\n",
      "     RealStreakW    Teamb  Gmb  RYTDb  RAYTDb  RankRb  GBRb  RealStreakNb  \\\n",
      "3             -1  Marlins   15     45      44       2  -4.0             1   \n",
      "4              1  Marlins   16     45      47       4  -5.0             1   \n",
      "5             -1  Marlins   17     54      54       2  -4.0             1   \n",
      "6             -1     Mets   24    108      70       1   3.0             1   \n",
      "7              1     Mets   25    110      75       1   3.0             1   \n",
      "..           ...      ...  ...    ...     ...     ...   ...           ...   \n",
      "473            1  Orioles   82    319     347       5 -22.0             4   \n",
      "474            1  Brewers   89    396     364       1  -2.0             2   \n",
      "475           -1  Brewers   90    402     367       1  -2.0             1   \n",
      "476            1  Brewers   97    442     412       1  -3.0             1   \n",
      "477           -1  Brewers   98    449     418       1  -3.0             1   \n",
      "\n",
      "     RealStreakWb  \n",
      "3               1  \n",
      "4              -1  \n",
      "5               1  \n",
      "6              -1  \n",
      "7              -1  \n",
      "..            ...  \n",
      "473            -1  \n",
      "474            -1  \n",
      "475             1  \n",
      "476            -1  \n",
      "477             1  \n",
      "\n",
      "[444 rows x 19 columns]\n",
      "Accuracy:0.5970149253731343\n",
      "Accuracy:0.5970149253731343\n",
      "Accuracy:0.6119402985074627\n",
      "Accuracy:0.5746268656716418\n",
      "Accuracy:0.6119402985074627\n",
      "Accuracy:0.6044776119402985\n",
      "Accuracy:0.582089552238806\n",
      "Accuracy:0.6119402985074627\n",
      "Accuracy:0.5970149253731343\n",
      "Accuracy:0.6044776119402985\n",
      "Accuracy:0.6044776119402985\n",
      "Accuracy:0.5671641791044776\n",
      "Accuracy:0.5970149253731343\n",
      "Accuracy:0.6194029850746269\n",
      "Accuracy:0.5671641791044776\n",
      "Accuracy:0.6492537313432836\n",
      "Accuracy:0.6268656716417911\n",
      "Accuracy:0.5746268656716418\n",
      "Accuracy:0.5970149253731343\n",
      "Accuracy:0.5895522388059702\n",
      "Accuracy:0.6044776119402985\n",
      "Accuracy:0.6194029850746269\n",
      "Accuracy:0.6044776119402985\n",
      "Accuracy:0.5746268656716418\n",
      "Accuracy:0.6194029850746269\n",
      "Accuracy:0.5970149253731343\n",
      "Accuracy:0.6044776119402985\n",
      "Accuracy:0.6268656716417911\n",
      "Accuracy:0.582089552238806\n",
      "Accuracy:0.5970149253731343\n",
      "best Accuracy 0.6492537313432836\n"
     ]
    }
   ],
   "source": [
    "import pandas as pd\n",
    "import numpy as np\n",
    "# Importing necessary libraries\n",
    "from sklearn.model_selection import train_test_split\n",
    "from sklearn.tree import DecisionTreeClassifier, plot_tree\n",
    "import matplotlib.pyplot as plt\n",
    "from sklearn.ensemble import RandomForestClassifier\n",
    "from sklearn.metrics import confusion_matrix, ConfusionMatrixDisplay\n",
    "import seaborn as sns\n",
    "\n",
    "\n",
    "data = pd.read_csv('gorgon3.csv')\n",
    "data = data[data.Gm > 10]\n",
    "print (data)\n",
    "#FEATURE_NAMES = [['pointYTD','ydsYTD','dRYdsYTD']]\n",
    "\n",
    "x = data[['Gm','RYTD','RAYTD','D_1_N_0','Home','RankR', 'GBR', 'RealStreakN','RealStreakW',  'Gmb', 'RYTDb','RAYTDb','RankRb','GBRb','RealStreakNb','RealStreakWb']].values\n",
    "y = data['W_L'].values\n",
    "\n",
    "# Splitting dataset into training set and test set\n",
    "X_train, X_test, y_train, y_test = train_test_split(x, y, test_size=0.3)\n",
    "wins = 0\n",
    "losses = 0\n",
    "\n",
    "# Initializing the best accuracy to 0\n",
    "best_accuracy = 0\n",
    "best_model = None\n",
    "\n",
    "for i in range(30):\n",
    "    # Creating Decision Tree classifier object\n",
    "    clf = RandomForestClassifier(n_estimators=100, max_depth=10)\n",
    "\n",
    "    # Training Decision Tree classifier\n",
    "    clf = clf.fit(X_train, y_train)\n",
    "\n",
    "    # Predicting the response for test dataset\n",
    "    y_pred = clf.predict(X_test)\n",
    "\n",
    "    # Importing metrics for accuracy calculation\n",
    "    from sklearn import metrics\n",
    "\n",
    "    accuracy = metrics.accuracy_score(y_test, y_pred)\n",
    "    print(\"Accuracy:\" + str(accuracy))\n",
    "    \n",
    "    if accuracy > best_accuracy:\n",
    "        best_accuracy = accuracy\n",
    "        best_model = clf\n",
    "        \n",
    "    #cm = confusion_matrix(y_test, y_pred)\n",
    "\n",
    "print ('best Accuracy ' + str(best_accuracy))\n",
    "\n"
   ]
  },
  {
   "cell_type": "code",
   "execution_count": 55,
   "id": "e8cbfef8",
   "metadata": {},
   "outputs": [
    {
     "name": "stdout",
     "output_type": "stream",
     "text": [
      "['L']\n"
     ]
    }
   ],
   "source": [
    "\n"
   ]
  },
  {
   "cell_type": "code",
   "execution_count": 10,
   "id": "f54c01be",
   "metadata": {},
   "outputs": [
    {
     "name": "stdout",
     "output_type": "stream",
     "text": [
      "['W']\n",
      "['L']\n"
     ]
    }
   ],
   "source": [
    "import pickle\n",
    "\n",
    "with open('teamMLB.pkl', 'rb') as f:\n",
    "    loaded_model = pickle.load(f)\n",
    "\n",
    "# Now you can use this loaded model to make predictions\n",
    "\n",
    "predi = loaded_model.predict([[98, 451,414,1,0,3,-2,2,-1,   97, 403,508,5,-24.5,2,-1]])\n",
    "print (predi)\n",
    "predi = loaded_model.predict([[97, 403,508,1,1,5,-24.5,2,-1,  98, 451,414,3,-2,2,-1]])\n",
    "print(predi)\n"
   ]
  },
  {
   "cell_type": "code",
   "execution_count": 15,
   "id": "fb710b2a",
   "metadata": {},
   "outputs": [],
   "source": [
    "# Assume that 'model' is the trained Random Forest model\n",
    "with open('teamMLB.pkl', 'wb') as f:\n",
    "    pickle.dump(clf, f)"
   ]
  },
  {
   "cell_type": "code",
   "execution_count": null,
   "id": "a98a8d90",
   "metadata": {},
   "outputs": [],
   "source": []
  }
 ],
 "metadata": {
  "kernelspec": {
   "display_name": "Python 3 (ipykernel)",
   "language": "python",
   "name": "python3"
  },
  "language_info": {
   "codemirror_mode": {
    "name": "ipython",
    "version": 3
   },
   "file_extension": ".py",
   "mimetype": "text/x-python",
   "name": "python",
   "nbconvert_exporter": "python",
   "pygments_lexer": "ipython3",
   "version": "3.10.9"
  }
 },
 "nbformat": 4,
 "nbformat_minor": 5
}
